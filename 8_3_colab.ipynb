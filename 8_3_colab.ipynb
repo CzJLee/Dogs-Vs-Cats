{
  "nbformat": 4,
  "nbformat_minor": 0,
  "metadata": {
    "language_info": {
      "codemirror_mode": {
        "name": "ipython",
        "version": 3
      },
      "file_extension": ".py",
      "mimetype": "text/x-python",
      "name": "python",
      "nbconvert_exporter": "python",
      "pygments_lexer": "ipython3",
      "version": "3.8.10"
    },
    "orig_nbformat": 2,
    "kernelspec": {
      "name": "python3810jvsc74a57bd07e85ec9bf098c5427e45e2f632dcd4eeff803b007e1abd287d600879388709c1",
      "display_name": "Python 3.8.10 64-bit"
    },
    "metadata": {
      "interpreter": {
        "hash": "7e85ec9bf098c5427e45e2f632dcd4eeff803b007e1abd287d600879388709c1"
      }
    },
    "colab": {
      "name": "8_3_colab.ipynb",
      "provenance": [],
      "collapsed_sections": [],
      "toc_visible": true
    },
    "accelerator": "GPU"
  },
  "cells": [
    {
      "cell_type": "markdown",
      "metadata": {
        "id": "b7TOZNH76ZnZ"
      },
      "source": [
        "# Dogs Vs. Cats: Training a Covnet Using a Pretrained Model "
      ]
    },
    {
      "cell_type": "code",
      "metadata": {
        "id": "6LeQOJUb6Znm"
      },
      "source": [
        "from tensorflow import keras\n",
        "from tensorflow.keras import layers\n",
        "import numpy as np \n",
        "import matplotlib.pyplot as plt "
      ],
      "execution_count": 1,
      "outputs": []
    },
    {
      "cell_type": "code",
      "metadata": {
        "id": "8mUIFfln7LFX"
      },
      "source": [
        "# In order to download from Kaggle, we need to provide our authenticaion JSON file. \n",
        "\n",
        "from google.colab import files\n",
        "files.upload()"
      ],
      "execution_count": null,
      "outputs": []
    },
    {
      "cell_type": "code",
      "metadata": {
        "id": "PtlItmz57Pes"
      },
      "source": [
        "# Create the directory that Kaggle checks for the authentication key, move the JSON file to the proper location\n",
        "!mkdir ~/.kaggle\n",
        "!cp kaggle.json ~/.kaggle/\n",
        "\n",
        "# Set permissions on the key\n",
        "!chmod 600 ~/.kaggle/kaggle.json\n",
        "!rm kaggle.json"
      ],
      "execution_count": 3,
      "outputs": []
    },
    {
      "cell_type": "code",
      "metadata": {
        "colab": {
          "base_uri": "https://localhost:8080/"
        },
        "id": "sNks8TV_6jSM",
        "outputId": "e8f0c377-ea55-48cc-d212-3887a4884e66"
      },
      "source": [
        "# Download the dataset from Kaggle, then unzip it. \n",
        "!kaggle competitions download -c dogs-vs-cats\n",
        "# Note that Google Colab uses an outdated Kaggle API (1.5.4) so the file downloaded is different.\n",
        "!unzip -q train.zip\n",
        "!rm train.zip"
      ],
      "execution_count": 4,
      "outputs": [
        {
          "output_type": "stream",
          "text": [
            "Warning: Looks like you're using an outdated API Version, please consider updating (server 1.5.12 / client 1.5.4)\n",
            "Downloading sampleSubmission.csv to /content\n",
            "  0% 0.00/86.8k [00:00<?, ?B/s]\n",
            "100% 86.8k/86.8k [00:00<00:00, 27.9MB/s]\n",
            "Downloading train.zip to /content\n",
            " 98% 532M/543M [00:02<00:00, 208MB/s]\n",
            "100% 543M/543M [00:02<00:00, 230MB/s]\n",
            "Downloading test1.zip to /content\n",
            " 92% 249M/271M [00:01<00:00, 225MB/s]\n",
            "100% 271M/271M [00:01<00:00, 224MB/s]\n"
          ],
          "name": "stdout"
        }
      ]
    },
    {
      "cell_type": "code",
      "metadata": {
        "id": "9arV_17_6mpM"
      },
      "source": [
        "# Move the dataset to its own directory\n",
        "!mkdir dogs-vs-cats-data\n",
        "!cp -r train dogs-vs-cats-data"
      ],
      "execution_count": 5,
      "outputs": []
    },
    {
      "cell_type": "code",
      "metadata": {
        "id": "N0tY7gGb6r2M"
      },
      "source": [
        "import os\n",
        "import shutil\n",
        "import pathlib\n",
        "\n",
        "# Our full data set is in the original data folder. Let's make a new small folder.\n",
        "original_dir = pathlib.Path('dogs-vs-cats-data')\n",
        "new_base_dir = pathlib.Path('dogs-vs-cats-small')\n",
        "\n",
        "# Define a function to move our images to the new directory.\n",
        "def make_subset(subset_name, start_index, end_index):\n",
        "    for category in ('cat', 'dog'):\n",
        "        dir = new_base_dir / subset_name / category\n",
        "        pathlib.Path(dir).mkdir(parents=True, exist_ok=True)\n",
        "        # images in the train set have the file name dog.5.jpg, with no leading zeros. \n",
        "        fnames = [f'{category}.{i}.jpg' for i in range(start_index, end_index)]\n",
        "        for fname in fnames:\n",
        "            # Copy from original_dir to new_base_dir\n",
        "            shutil.copyfile(src=original_dir / \"train\"/ fname, dst=dir / fname)\n",
        "\n",
        "# Define size of each set\n",
        "# Select size/2 of each type of image to chose for the small subset. \n",
        "num_train_images = 2000\n",
        "num_val_images = 1000\n",
        "num_test_images = 2000\n",
        "\n",
        "# Loop over the train, validation, and test sets, making subsets for each.\n",
        "i = 0\n",
        "for dataset, num_images in {\"train\":num_train_images, \"validation\":num_val_images, \"test\":num_test_images}.items():\n",
        "    make_subset(dataset, i, int(i + num_images/2))\n",
        "    i += int(num_images / 2)"
      ],
      "execution_count": 6,
      "outputs": []
    },
    {
      "cell_type": "code",
      "metadata": {
        "colab": {
          "base_uri": "https://localhost:8080/"
        },
        "id": "Lmx1Y28-69IE",
        "outputId": "3514c0ef-ca45-49f1-91fd-77392856b855"
      },
      "source": [
        "# Create datasets from images\n",
        "from tensorflow.keras.preprocessing import image_dataset_from_directory\n",
        "\n",
        "train_dataset = image_dataset_from_directory(\n",
        "    directory=new_base_dir / 'train',\n",
        "    labels='inferred',\n",
        "    image_size=(180, 180),\n",
        "    batch_size=32)\n",
        "validation_dataset = image_dataset_from_directory(\n",
        "    directory=new_base_dir / 'validation',\n",
        "    labels='inferred',\n",
        "    image_size=(180, 180),\n",
        "    batch_size=32)\n",
        "test_dataset = image_dataset_from_directory(\n",
        "    directory=new_base_dir / 'test',\n",
        "    labels='inferred',\n",
        "    image_size=(180, 180),\n",
        "    batch_size=32)"
      ],
      "execution_count": 7,
      "outputs": [
        {
          "output_type": "stream",
          "text": [
            "Found 2000 files belonging to 2 classes.\n",
            "Found 1000 files belonging to 2 classes.\n",
            "Found 2000 files belonging to 2 classes.\n"
          ],
          "name": "stdout"
        }
      ]
    },
    {
      "cell_type": "code",
      "metadata": {
        "colab": {
          "base_uri": "https://localhost:8080/"
        },
        "id": "rnJujyq86Znn",
        "outputId": "7928499c-28b8-4516-fcc8-f92b677d5809"
      },
      "source": [
        "# Import the VGG16 Model\n",
        "conv_base = keras.applications.vgg16.VGG16(\n",
        "    weights='imagenet',\n",
        "    include_top=False,\n",
        "    input_shape=(180, 180, 3))"
      ],
      "execution_count": 8,
      "outputs": [
        {
          "output_type": "stream",
          "text": [
            "Downloading data from https://storage.googleapis.com/tensorflow/keras-applications/vgg16/vgg16_weights_tf_dim_ordering_tf_kernels_notop.h5\n",
            "58892288/58889256 [==============================] - 0s 0us/step\n"
          ],
          "name": "stdout"
        }
      ]
    },
    {
      "cell_type": "code",
      "metadata": {
        "colab": {
          "base_uri": "https://localhost:8080/"
        },
        "id": "00wKiJoh6Zno",
        "outputId": "d1bdbc1c-57ff-4573-dc53-646274e191f6"
      },
      "source": [
        "conv_base.summary()"
      ],
      "execution_count": 9,
      "outputs": [
        {
          "output_type": "stream",
          "text": [
            "Model: \"vgg16\"\n",
            "_________________________________________________________________\n",
            "Layer (type)                 Output Shape              Param #   \n",
            "=================================================================\n",
            "input_1 (InputLayer)         [(None, 180, 180, 3)]     0         \n",
            "_________________________________________________________________\n",
            "block1_conv1 (Conv2D)        (None, 180, 180, 64)      1792      \n",
            "_________________________________________________________________\n",
            "block1_conv2 (Conv2D)        (None, 180, 180, 64)      36928     \n",
            "_________________________________________________________________\n",
            "block1_pool (MaxPooling2D)   (None, 90, 90, 64)        0         \n",
            "_________________________________________________________________\n",
            "block2_conv1 (Conv2D)        (None, 90, 90, 128)       73856     \n",
            "_________________________________________________________________\n",
            "block2_conv2 (Conv2D)        (None, 90, 90, 128)       147584    \n",
            "_________________________________________________________________\n",
            "block2_pool (MaxPooling2D)   (None, 45, 45, 128)       0         \n",
            "_________________________________________________________________\n",
            "block3_conv1 (Conv2D)        (None, 45, 45, 256)       295168    \n",
            "_________________________________________________________________\n",
            "block3_conv2 (Conv2D)        (None, 45, 45, 256)       590080    \n",
            "_________________________________________________________________\n",
            "block3_conv3 (Conv2D)        (None, 45, 45, 256)       590080    \n",
            "_________________________________________________________________\n",
            "block3_pool (MaxPooling2D)   (None, 22, 22, 256)       0         \n",
            "_________________________________________________________________\n",
            "block4_conv1 (Conv2D)        (None, 22, 22, 512)       1180160   \n",
            "_________________________________________________________________\n",
            "block4_conv2 (Conv2D)        (None, 22, 22, 512)       2359808   \n",
            "_________________________________________________________________\n",
            "block4_conv3 (Conv2D)        (None, 22, 22, 512)       2359808   \n",
            "_________________________________________________________________\n",
            "block4_pool (MaxPooling2D)   (None, 11, 11, 512)       0         \n",
            "_________________________________________________________________\n",
            "block5_conv1 (Conv2D)        (None, 11, 11, 512)       2359808   \n",
            "_________________________________________________________________\n",
            "block5_conv2 (Conv2D)        (None, 11, 11, 512)       2359808   \n",
            "_________________________________________________________________\n",
            "block5_conv3 (Conv2D)        (None, 11, 11, 512)       2359808   \n",
            "_________________________________________________________________\n",
            "block5_pool (MaxPooling2D)   (None, 5, 5, 512)         0         \n",
            "=================================================================\n",
            "Total params: 14,714,688\n",
            "Trainable params: 14,714,688\n",
            "Non-trainable params: 0\n",
            "_________________________________________________________________\n"
          ],
          "name": "stdout"
        }
      ]
    },
    {
      "cell_type": "code",
      "metadata": {
        "id": "PxOHI74d6Znp"
      },
      "source": [
        "# Freeze the VGG16 model by setting the trainable attribute to False.\n",
        "conv_base  = keras.applications.vgg16.VGG16(\n",
        "    weights='imagenet',\n",
        "    include_top=False)\n",
        "conv_base.trainable = False"
      ],
      "execution_count": 10,
      "outputs": []
    },
    {
      "cell_type": "code",
      "metadata": {
        "id": "k5Z26ibh6Znp"
      },
      "source": [
        "# Create data augmentation layers\n",
        "data_augmentation = keras.Sequential(\n",
        "    [\n",
        "        layers.experimental.preprocessing.RandomFlip(\"horizontal\"),\n",
        "        layers.experimental.preprocessing.RandomRotation(0.1),\n",
        "        layers.experimental.preprocessing.RandomZoom(0.2),\n",
        "    ]\n",
        ")"
      ],
      "execution_count": 11,
      "outputs": []
    },
    {
      "cell_type": "code",
      "metadata": {
        "id": "1fc8hyz26Znr"
      },
      "source": [
        "# Build the model\n",
        "inputs = keras.Input(shape=(180, 180, 3))\n",
        "x = data_augmentation(inputs)\n",
        "\n",
        "x = conv_base(x)\n",
        "\n",
        "x = layers.Flatten()(x)\n",
        "x = layers.Dense(256)(x)\n",
        "x = layers.Dropout(0.5)(x)\n",
        "\n",
        "outputs = layers.Dense(1, activation='sigmoid')(x)\n",
        "\n",
        "model = keras.Model(inputs, outputs)\n",
        "\n",
        "# Compile the model\n",
        "model.compile(loss='binary_crossentropy',\n",
        "              optimizer='rmsprop',\n",
        "              metrics=['accuracy'])"
      ],
      "execution_count": 12,
      "outputs": []
    },
    {
      "cell_type": "code",
      "metadata": {
        "id": "WlLWdq2s6Znr"
      },
      "source": [
        "# Define the callbacks and save the best model to a new file\n",
        "callbacks = [keras.callbacks.ModelCheckpoint(\n",
        "    filepath='models/feature_extraction_with_data_augmentation.keras',\n",
        "    save_best_only=True,\n",
        "    monitor='val_loss')]"
      ],
      "execution_count": 13,
      "outputs": []
    },
    {
      "cell_type": "code",
      "metadata": {
        "colab": {
          "base_uri": "https://localhost:8080/"
        },
        "id": "9AAb6y5Y6Zns",
        "outputId": "90146bff-565f-44fb-db90-2c9c52f15e27"
      },
      "source": [
        "import time\n",
        "# Time the time it takes to train the model\n",
        "start_time = time.time()\n",
        "\n",
        "history = model.fit(\n",
        "  train_dataset,\n",
        "  epochs=50,\n",
        "  validation_data=validation_dataset,\n",
        "  callbacks=callbacks)\n",
        "\n",
        "print(\"--- Model trained in %s seconds ---\" % (time.time() - start_time))"
      ],
      "execution_count": 14,
      "outputs": [
        {
          "output_type": "stream",
          "text": [
            "Epoch 1/50\n",
            "63/63 [==============================] - 52s 238ms/step - loss: 68.7689 - accuracy: 0.7708 - val_loss: 7.2356 - val_accuracy: 0.9470\n",
            "Epoch 2/50\n",
            "63/63 [==============================] - 11s 176ms/step - loss: 11.0599 - accuracy: 0.9045 - val_loss: 5.8452 - val_accuracy: 0.9530\n",
            "Epoch 3/50\n",
            "63/63 [==============================] - 11s 177ms/step - loss: 8.6098 - accuracy: 0.9240 - val_loss: 4.9007 - val_accuracy: 0.9560\n",
            "Epoch 4/50\n",
            "63/63 [==============================] - 11s 178ms/step - loss: 6.9299 - accuracy: 0.9351 - val_loss: 8.9709 - val_accuracy: 0.9380\n",
            "Epoch 5/50\n",
            "63/63 [==============================] - 11s 178ms/step - loss: 9.1387 - accuracy: 0.9266 - val_loss: 5.0340 - val_accuracy: 0.9530\n",
            "Epoch 6/50\n",
            "63/63 [==============================] - 11s 178ms/step - loss: 7.2524 - accuracy: 0.9425 - val_loss: 6.1255 - val_accuracy: 0.9510\n",
            "Epoch 7/50\n",
            "63/63 [==============================] - 12s 180ms/step - loss: 4.2084 - accuracy: 0.9475 - val_loss: 7.0858 - val_accuracy: 0.9410\n",
            "Epoch 8/50\n",
            "63/63 [==============================] - 12s 180ms/step - loss: 3.7885 - accuracy: 0.9482 - val_loss: 4.8336 - val_accuracy: 0.9530\n",
            "Epoch 9/50\n",
            "63/63 [==============================] - 12s 179ms/step - loss: 3.7222 - accuracy: 0.9490 - val_loss: 3.9141 - val_accuracy: 0.9630\n",
            "Epoch 10/50\n",
            "63/63 [==============================] - 12s 180ms/step - loss: 4.2795 - accuracy: 0.9529 - val_loss: 4.2284 - val_accuracy: 0.9550\n",
            "Epoch 11/50\n",
            "63/63 [==============================] - 12s 181ms/step - loss: 2.2923 - accuracy: 0.9619 - val_loss: 6.9191 - val_accuracy: 0.9420\n",
            "Epoch 12/50\n",
            "63/63 [==============================] - 12s 183ms/step - loss: 1.3698 - accuracy: 0.9665 - val_loss: 10.5819 - val_accuracy: 0.9200\n",
            "Epoch 13/50\n",
            "63/63 [==============================] - 12s 181ms/step - loss: 2.4794 - accuracy: 0.9526 - val_loss: 2.7115 - val_accuracy: 0.9630\n",
            "Epoch 14/50\n",
            "63/63 [==============================] - 12s 182ms/step - loss: 1.5412 - accuracy: 0.9623 - val_loss: 2.7129 - val_accuracy: 0.9590\n",
            "Epoch 15/50\n",
            "63/63 [==============================] - 12s 182ms/step - loss: 0.9632 - accuracy: 0.9692 - val_loss: 2.7368 - val_accuracy: 0.9570\n",
            "Epoch 16/50\n",
            "63/63 [==============================] - 12s 183ms/step - loss: 1.2330 - accuracy: 0.9532 - val_loss: 2.0814 - val_accuracy: 0.9610\n",
            "Epoch 17/50\n",
            "63/63 [==============================] - 12s 182ms/step - loss: 0.9458 - accuracy: 0.9677 - val_loss: 2.1629 - val_accuracy: 0.9590\n",
            "Epoch 18/50\n",
            "63/63 [==============================] - 12s 182ms/step - loss: 1.4427 - accuracy: 0.9546 - val_loss: 1.8869 - val_accuracy: 0.9620\n",
            "Epoch 19/50\n",
            "63/63 [==============================] - 12s 187ms/step - loss: 1.2270 - accuracy: 0.9621 - val_loss: 1.9191 - val_accuracy: 0.9550\n",
            "Epoch 20/50\n",
            "63/63 [==============================] - 12s 183ms/step - loss: 0.6253 - accuracy: 0.9649 - val_loss: 1.9048 - val_accuracy: 0.9590\n",
            "Epoch 21/50\n",
            "63/63 [==============================] - 12s 182ms/step - loss: 0.7008 - accuracy: 0.9660 - val_loss: 1.8098 - val_accuracy: 0.9580\n",
            "Epoch 22/50\n",
            "63/63 [==============================] - 12s 184ms/step - loss: 0.6521 - accuracy: 0.9692 - val_loss: 2.0776 - val_accuracy: 0.9530\n",
            "Epoch 23/50\n",
            "63/63 [==============================] - 12s 185ms/step - loss: 0.7302 - accuracy: 0.9697 - val_loss: 1.4578 - val_accuracy: 0.9620\n",
            "Epoch 24/50\n",
            "63/63 [==============================] - 12s 183ms/step - loss: 0.6009 - accuracy: 0.9656 - val_loss: 1.4516 - val_accuracy: 0.9630\n",
            "Epoch 25/50\n",
            "63/63 [==============================] - 12s 186ms/step - loss: 0.6783 - accuracy: 0.9641 - val_loss: 1.8245 - val_accuracy: 0.9560\n",
            "Epoch 26/50\n",
            "63/63 [==============================] - 12s 185ms/step - loss: 0.7252 - accuracy: 0.9580 - val_loss: 1.5178 - val_accuracy: 0.9620\n",
            "Epoch 27/50\n",
            "63/63 [==============================] - 12s 187ms/step - loss: 0.5477 - accuracy: 0.9622 - val_loss: 2.0472 - val_accuracy: 0.9500\n",
            "Epoch 28/50\n",
            "63/63 [==============================] - 12s 186ms/step - loss: 0.7164 - accuracy: 0.9637 - val_loss: 1.3779 - val_accuracy: 0.9660\n",
            "Epoch 29/50\n",
            "63/63 [==============================] - 12s 186ms/step - loss: 0.6491 - accuracy: 0.9645 - val_loss: 2.0174 - val_accuracy: 0.9480\n",
            "Epoch 30/50\n",
            "63/63 [==============================] - 12s 185ms/step - loss: 0.6833 - accuracy: 0.9579 - val_loss: 1.9294 - val_accuracy: 0.9530\n",
            "Epoch 31/50\n",
            "63/63 [==============================] - 12s 182ms/step - loss: 0.6782 - accuracy: 0.9648 - val_loss: 1.4032 - val_accuracy: 0.9590\n",
            "Epoch 32/50\n",
            "63/63 [==============================] - 12s 184ms/step - loss: 0.4808 - accuracy: 0.9721 - val_loss: 1.8938 - val_accuracy: 0.9470\n",
            "Epoch 33/50\n",
            "63/63 [==============================] - 12s 185ms/step - loss: 0.7205 - accuracy: 0.9649 - val_loss: 2.2802 - val_accuracy: 0.9410\n",
            "Epoch 34/50\n",
            "63/63 [==============================] - 12s 185ms/step - loss: 0.5905 - accuracy: 0.9714 - val_loss: 1.5042 - val_accuracy: 0.9610\n",
            "Epoch 35/50\n",
            "63/63 [==============================] - 12s 184ms/step - loss: 0.8364 - accuracy: 0.9716 - val_loss: 1.4781 - val_accuracy: 0.9530\n",
            "Epoch 36/50\n",
            "63/63 [==============================] - 12s 183ms/step - loss: 0.7633 - accuracy: 0.9566 - val_loss: 1.8442 - val_accuracy: 0.9600\n",
            "Epoch 37/50\n",
            "63/63 [==============================] - 12s 183ms/step - loss: 0.5664 - accuracy: 0.9719 - val_loss: 1.7155 - val_accuracy: 0.9640\n",
            "Epoch 38/50\n",
            "63/63 [==============================] - 12s 183ms/step - loss: 0.7444 - accuracy: 0.9667 - val_loss: 1.7422 - val_accuracy: 0.9600\n",
            "Epoch 39/50\n",
            "63/63 [==============================] - 12s 183ms/step - loss: 0.4768 - accuracy: 0.9732 - val_loss: 1.6255 - val_accuracy: 0.9680\n",
            "Epoch 40/50\n",
            "63/63 [==============================] - 12s 185ms/step - loss: 0.9693 - accuracy: 0.9689 - val_loss: 1.9158 - val_accuracy: 0.9570\n",
            "Epoch 41/50\n",
            "63/63 [==============================] - 12s 184ms/step - loss: 0.8574 - accuracy: 0.9651 - val_loss: 1.8815 - val_accuracy: 0.9560\n",
            "Epoch 42/50\n",
            "63/63 [==============================] - 12s 183ms/step - loss: 0.6250 - accuracy: 0.9745 - val_loss: 3.1734 - val_accuracy: 0.9410\n",
            "Epoch 43/50\n",
            "63/63 [==============================] - 12s 185ms/step - loss: 0.8208 - accuracy: 0.9646 - val_loss: 2.3449 - val_accuracy: 0.9570\n",
            "Epoch 44/50\n",
            "63/63 [==============================] - 12s 184ms/step - loss: 0.5946 - accuracy: 0.9709 - val_loss: 2.0307 - val_accuracy: 0.9640\n",
            "Epoch 45/50\n",
            "63/63 [==============================] - 12s 183ms/step - loss: 0.9907 - accuracy: 0.9712 - val_loss: 1.6318 - val_accuracy: 0.9630\n",
            "Epoch 46/50\n",
            "63/63 [==============================] - 12s 183ms/step - loss: 0.5033 - accuracy: 0.9744 - val_loss: 1.6893 - val_accuracy: 0.9640\n",
            "Epoch 47/50\n",
            "63/63 [==============================] - 12s 183ms/step - loss: 0.5587 - accuracy: 0.9729 - val_loss: 1.8752 - val_accuracy: 0.9600\n",
            "Epoch 48/50\n",
            "63/63 [==============================] - 12s 183ms/step - loss: 0.4230 - accuracy: 0.9761 - val_loss: 2.4050 - val_accuracy: 0.9550\n",
            "Epoch 49/50\n",
            "63/63 [==============================] - 12s 183ms/step - loss: 0.6096 - accuracy: 0.9750 - val_loss: 1.9922 - val_accuracy: 0.9640\n",
            "Epoch 50/50\n",
            "63/63 [==============================] - 12s 182ms/step - loss: 0.7069 - accuracy: 0.9723 - val_loss: 3.1721 - val_accuracy: 0.9530\n",
            "--- Model trained in 630.3685760498047 seconds ---\n"
          ],
          "name": "stdout"
        }
      ]
    },
    {
      "cell_type": "code",
      "metadata": {
        "colab": {
          "base_uri": "https://localhost:8080/",
          "height": 545
        },
        "id": "XbWtaVZG6Zns",
        "outputId": "b8648e96-fc5e-4b55-eb1c-edab54d91713"
      },
      "source": [
        "# Plot the loss and accuracy of the model over the training and validation data during training. \n",
        "accuracy = history.history['accuracy']\n",
        "val_accuracy = history.history['val_accuracy']\n",
        "loss = history.history['loss']\n",
        "val_loss = history.history['val_loss']\n",
        "epochs = range(1, len(accuracy) + 1)\n",
        "plt.plot(epochs, accuracy, 'bo', label='Training accuracy')\n",
        "plt.plot(epochs, val_accuracy, 'b', label='Validation accuracy')\n",
        "plt.title('Training and validation accuracy')\n",
        "plt.legend()\n",
        "plt.figure()\n",
        "plt.plot(epochs, loss, 'bo', label='Training loss')\n",
        "plt.plot(epochs, val_loss, 'b', label='Validation loss')\n",
        "plt.title('Training and validation loss')\n",
        "plt.legend()\n",
        "plt.show()"
      ],
      "execution_count": 15,
      "outputs": [
        {
          "output_type": "display_data",
          "data": {
            "image/png": "[encoded data removed]",
            "text/plain": [
              "<Figure size 432x288 with 1 Axes>"
            ]
          },
          "metadata": {
            "tags": [],
            "needs_background": "light"
          }
        },
        {
          "output_type": "display_data",
          "data": {
            "image/png": "[encoded data removed]",
            "text/plain": [
              "<Figure size 432x288 with 1 Axes>"
            ]
          },
          "metadata": {
            "tags": [],
            "needs_background": "light"
          }
        }
      ]
    },
    {
      "cell_type": "code",
      "metadata": {
        "colab": {
          "base_uri": "https://localhost:8080/"
        },
        "id": "ftZF8pxT6Znt",
        "outputId": "fbf9a3cb-e402-4129-8876-2529df5697ef"
      },
      "source": [
        "# Display the accuracy of the model on the test dataset\n",
        "test_model = keras.models.load_model('models/feature_extraction_with_data_augmentation.keras')\n",
        "test_loss, test_acc = test_model.evaluate(test_dataset)\n",
        "print('Test accuracy: %.3f' % (test_acc,))"
      ],
      "execution_count": 16,
      "outputs": [
        {
          "output_type": "stream",
          "text": [
            "63/63 [==============================] - 8s 119ms/step - loss: 1.4005 - accuracy: 0.9630\n",
            "Test accuracy: 0.963\n"
          ],
          "name": "stdout"
        }
      ]
    },
    {
      "cell_type": "markdown",
      "metadata": {
        "id": "BEC4Ou9b6Znt"
      },
      "source": [
        "## Fine Tuning a Pretrained Model"
      ]
    },
    {
      "cell_type": "code",
      "metadata": {
        "id": "-TbkifPo6Znu"
      },
      "source": [
        "# Unfreeze the top four layers\n",
        "conv_base.trainable = True\n",
        "for layer in conv_base.layers[:-4]:\n",
        "  layer.trainable = False"
      ],
      "execution_count": 17,
      "outputs": []
    },
    {
      "cell_type": "code",
      "metadata": {
        "id": "m9f-zRAC6Znu"
      },
      "source": [
        "# Recompile the model (since we changed the trainable layers)\n",
        "model.compile(loss='binary_crossentropy',\n",
        "              optimizer=keras.optimizers.RMSprop(learning_rate=1e-5),\n",
        "              metrics=['accuracy'])\n"
      ],
      "execution_count": 18,
      "outputs": []
    },
    {
      "cell_type": "code",
      "metadata": {
        "id": "ntozmrDI6Znv"
      },
      "source": [
        "# Define callbacks again, with a new save file\n",
        "callbacks = [keras.callbacks.ModelCheckpoint(\n",
        "    filepath='models/fine_tuning.keras',\n",
        "    save_best_only=True,\n",
        "    monitor='val_loss')]\n"
      ],
      "execution_count": 19,
      "outputs": []
    },
    {
      "cell_type": "code",
      "metadata": {
        "colab": {
          "base_uri": "https://localhost:8080/"
        },
        "id": "Ki_cqhBm6Znv",
        "outputId": "58eaa5cc-3d5b-429f-af76-8cd2fcba8b0f"
      },
      "source": [
        "start_time = time.time()\n",
        "\n",
        "history = model.fit(\n",
        "    train_dataset,\n",
        "    epochs=30,\n",
        "    validation_data=validation_dataset,\n",
        "    callbacks=callbacks)\n",
        "\n",
        "print(\"--- Model trained in %s seconds ---\" % (time.time() - start_time))"
      ],
      "execution_count": 20,
      "outputs": [
        {
          "output_type": "stream",
          "text": [
            "Epoch 1/30\n",
            "63/63 [==============================] - 14s 203ms/step - loss: 0.8980 - accuracy: 0.9719 - val_loss: 2.1612 - val_accuracy: 0.9650\n",
            "Epoch 2/30\n",
            "63/63 [==============================] - 13s 203ms/step - loss: 0.6651 - accuracy: 0.9750 - val_loss: 1.9518 - val_accuracy: 0.9660\n",
            "Epoch 3/30\n",
            "63/63 [==============================] - 13s 203ms/step - loss: 0.4673 - accuracy: 0.9766 - val_loss: 1.8423 - val_accuracy: 0.9600\n",
            "Epoch 4/30\n",
            "63/63 [==============================] - 13s 202ms/step - loss: 0.2876 - accuracy: 0.9879 - val_loss: 1.8155 - val_accuracy: 0.9590\n",
            "Epoch 5/30\n",
            "63/63 [==============================] - 13s 201ms/step - loss: 0.3952 - accuracy: 0.9801 - val_loss: 1.9527 - val_accuracy: 0.9630\n",
            "Epoch 6/30\n",
            "63/63 [==============================] - 13s 203ms/step - loss: 0.2278 - accuracy: 0.9851 - val_loss: 1.9801 - val_accuracy: 0.9630\n",
            "Epoch 7/30\n",
            "63/63 [==============================] - 13s 201ms/step - loss: 0.2628 - accuracy: 0.9869 - val_loss: 1.9832 - val_accuracy: 0.9610\n",
            "Epoch 8/30\n",
            "63/63 [==============================] - 13s 204ms/step - loss: 0.2682 - accuracy: 0.9865 - val_loss: 2.1270 - val_accuracy: 0.9580\n",
            "Epoch 9/30\n",
            "63/63 [==============================] - 13s 202ms/step - loss: 0.1609 - accuracy: 0.9870 - val_loss: 2.1211 - val_accuracy: 0.9630\n",
            "Epoch 10/30\n",
            "63/63 [==============================] - 13s 200ms/step - loss: 0.1644 - accuracy: 0.9895 - val_loss: 2.1340 - val_accuracy: 0.9620\n",
            "Epoch 11/30\n",
            "63/63 [==============================] - 13s 201ms/step - loss: 0.1336 - accuracy: 0.9897 - val_loss: 2.6450 - val_accuracy: 0.9520\n",
            "Epoch 12/30\n",
            "63/63 [==============================] - 13s 201ms/step - loss: 0.1295 - accuracy: 0.9914 - val_loss: 2.2774 - val_accuracy: 0.9530\n",
            "Epoch 13/30\n",
            "63/63 [==============================] - 13s 201ms/step - loss: 0.2382 - accuracy: 0.9849 - val_loss: 2.3814 - val_accuracy: 0.9500\n",
            "Epoch 14/30\n",
            "63/63 [==============================] - 13s 200ms/step - loss: 0.1523 - accuracy: 0.9921 - val_loss: 2.2702 - val_accuracy: 0.9550\n",
            "Epoch 15/30\n",
            "63/63 [==============================] - 13s 199ms/step - loss: 0.1302 - accuracy: 0.9868 - val_loss: 2.1053 - val_accuracy: 0.9630\n",
            "Epoch 16/30\n",
            "63/63 [==============================] - 13s 200ms/step - loss: 0.0890 - accuracy: 0.9956 - val_loss: 2.0392 - val_accuracy: 0.9660\n",
            "Epoch 17/30\n",
            "63/63 [==============================] - 13s 200ms/step - loss: 0.1539 - accuracy: 0.9895 - val_loss: 1.9567 - val_accuracy: 0.9630\n",
            "Epoch 18/30\n",
            "63/63 [==============================] - 13s 201ms/step - loss: 0.2931 - accuracy: 0.9895 - val_loss: 1.9232 - val_accuracy: 0.9630\n",
            "Epoch 19/30\n",
            "63/63 [==============================] - 13s 200ms/step - loss: 0.1597 - accuracy: 0.9909 - val_loss: 1.8225 - val_accuracy: 0.9640\n",
            "Epoch 20/30\n",
            "63/63 [==============================] - 13s 200ms/step - loss: 0.1900 - accuracy: 0.9905 - val_loss: 2.2604 - val_accuracy: 0.9500\n",
            "Epoch 21/30\n",
            "63/63 [==============================] - 13s 204ms/step - loss: 0.1635 - accuracy: 0.9883 - val_loss: 1.9287 - val_accuracy: 0.9620\n",
            "Epoch 22/30\n",
            "63/63 [==============================] - 13s 201ms/step - loss: 0.0259 - accuracy: 0.9950 - val_loss: 1.7619 - val_accuracy: 0.9660\n",
            "Epoch 23/30\n",
            "63/63 [==============================] - 13s 202ms/step - loss: 0.0910 - accuracy: 0.9955 - val_loss: 1.6493 - val_accuracy: 0.9670\n",
            "Epoch 24/30\n",
            "63/63 [==============================] - 13s 202ms/step - loss: 0.1056 - accuracy: 0.9916 - val_loss: 1.7019 - val_accuracy: 0.9690\n",
            "Epoch 25/30\n",
            "63/63 [==============================] - 13s 202ms/step - loss: 0.1588 - accuracy: 0.9913 - val_loss: 1.6234 - val_accuracy: 0.9660\n",
            "Epoch 26/30\n",
            "63/63 [==============================] - 13s 202ms/step - loss: 0.0558 - accuracy: 0.9925 - val_loss: 1.8695 - val_accuracy: 0.9660\n",
            "Epoch 27/30\n",
            "63/63 [==============================] - 13s 202ms/step - loss: 0.1129 - accuracy: 0.9910 - val_loss: 1.8962 - val_accuracy: 0.9670\n",
            "Epoch 28/30\n",
            "63/63 [==============================] - 13s 203ms/step - loss: 0.0813 - accuracy: 0.9919 - val_loss: 2.1202 - val_accuracy: 0.9640\n",
            "Epoch 29/30\n",
            "63/63 [==============================] - 13s 200ms/step - loss: 0.1394 - accuracy: 0.9913 - val_loss: 2.0545 - val_accuracy: 0.9670\n",
            "Epoch 30/30\n",
            "63/63 [==============================] - 13s 202ms/step - loss: 0.1011 - accuracy: 0.9931 - val_loss: 2.0667 - val_accuracy: 0.9650\n",
            "--- Model trained in 391.8988678455353 seconds ---\n"
          ],
          "name": "stdout"
        }
      ]
    },
    {
      "cell_type": "code",
      "metadata": {
        "colab": {
          "base_uri": "https://localhost:8080/"
        },
        "id": "MMcS-Aw56Znw",
        "outputId": "c324ea82-10a0-4d50-afb4-4bae6aae9241"
      },
      "source": [
        "# Display the accuracy of the model on the test dataset\n",
        "model = keras.models.load_model('models/fine_tuning.keras')\n",
        "test_loss, test_acc = model.evaluate(test_dataset)\n",
        "print('Test accuracy: %.3f' % (test_acc,))"
      ],
      "execution_count": 21,
      "outputs": [
        {
          "output_type": "stream",
          "text": [
            "63/63 [==============================] - 8s 119ms/step - loss: 1.5694 - accuracy: 0.9650\n",
            "Test accuracy: 0.965\n"
          ],
          "name": "stdout"
        }
      ]
    }
  ]
}