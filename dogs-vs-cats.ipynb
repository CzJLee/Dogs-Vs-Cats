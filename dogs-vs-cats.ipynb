{
  "nbformat": 4,
  "nbformat_minor": 0,
  "metadata": {
    "language_info": {
      "codemirror_mode": {
        "name": "ipython",
        "version": 3
      },
      "file_extension": ".py",
      "mimetype": "text/x-python",
      "name": "python",
      "nbconvert_exporter": "python",
      "pygments_lexer": "ipython3",
      "version": "3.8.10"
    },
    "orig_nbformat": 2,
    "kernelspec": {
      "name": "python3810jvsc74a57bd07e85ec9bf098c5427e45e2f632dcd4eeff803b007e1abd287d600879388709c1",
      "display_name": "Python 3.8.10 64-bit"
    },
    "metadata": {
      "interpreter": {
        "hash": "7e85ec9bf098c5427e45e2f632dcd4eeff803b007e1abd287d600879388709c1"
      }
    },
    "colab": {
      "name": "8_4_colab.ipynb",
      "provenance": [],
      "collapsed_sections": [],
      "toc_visible": true
    },
    "accelerator": "GPU"
  },
  "cells": [
    {
      "cell_type": "markdown",
      "metadata": {
        "id": "b7TOZNH76ZnZ"
      },
      "source": [
        "# Dogs Vs. Cats: Training a Covnet Using a Pretrained Model "
      ]
    },
    {
      "cell_type": "code",
      "metadata": {
        "id": "6LeQOJUb6Znm"
      },
      "source": [
        "from tensorflow import keras\n",
        "from tensorflow.keras import layers\n",
        "import numpy as np \n",
        "import matplotlib.pyplot as plt "
      ],
      "execution_count": 2,
      "outputs": []
    },
    {
      "cell_type": "code",
      "metadata": {
        "id": "8mUIFfln7LFX"
      },
      "source": [
        "# In order to download from Kaggle, we need to provide our authenticaion JSON file. \n",
        "\n",
        "from google.colab import files\n",
        "files.upload()"
      ],
      "execution_count": null,
      "outputs": []
    },
    {
      "cell_type": "code",
      "metadata": {
        "id": "PtlItmz57Pes"
      },
      "source": [
        "# Create the directory that Kaggle checks for the authentication key, move the JSON file to the proper location\n",
        "!mkdir ~/.kaggle\n",
        "!cp kaggle.json ~/.kaggle/\n",
        "\n",
        "# Set permissions on the key\n",
        "!chmod 600 ~/.kaggle/kaggle.json\n",
        "!rm kaggle.json"
      ],
      "execution_count": 4,
      "outputs": []
    },
    {
      "cell_type": "code",
      "metadata": {
        "colab": {
          "base_uri": "https://localhost:8080/"
        },
        "id": "sNks8TV_6jSM",
        "outputId": "e77f3050-5992-46f8-f039-1466d796f803"
      },
      "source": [
        "# Download the dataset from Kaggle, then unzip it. \n",
        "!kaggle competitions download -c dogs-vs-cats\n",
        "# Note that Google Colab uses an outdated Kaggle API (1.5.4) so the file downloaded is different.\n",
        "!unzip -q train.zip\n",
        "!rm train.zip"
      ],
      "execution_count": 5,
      "outputs": [
        {
          "output_type": "stream",
          "text": [
            "Warning: Looks like you're using an outdated API Version, please consider updating (server 1.5.12 / client 1.5.4)\n",
            "Downloading test1.zip to /content\n",
            " 99% 269M/271M [00:01<00:00, 142MB/s]\n",
            "100% 271M/271M [00:01<00:00, 165MB/s]\n",
            "Downloading sampleSubmission.csv to /content\n",
            "  0% 0.00/86.8k [00:00<?, ?B/s]\n",
            "100% 86.8k/86.8k [00:00<00:00, 79.0MB/s]\n",
            "Downloading train.zip to /content\n",
            " 96% 523M/543M [00:02<00:00, 267MB/s]\n",
            "100% 543M/543M [00:02<00:00, 255MB/s]\n"
          ],
          "name": "stdout"
        }
      ]
    },
    {
      "cell_type": "code",
      "metadata": {
        "id": "9arV_17_6mpM"
      },
      "source": [
        "# Move the dataset to its own directory\n",
        "!mkdir dogs-vs-cats-data\n",
        "!cp -r train dogs-vs-cats-data"
      ],
      "execution_count": 6,
      "outputs": []
    },
    {
      "cell_type": "code",
      "metadata": {
        "id": "N0tY7gGb6r2M"
      },
      "source": [
        "import os\n",
        "import shutil\n",
        "import pathlib\n",
        "\n",
        "# Our full data set is in the original data folder. Let's make a new small folder.\n",
        "original_dir = pathlib.Path('dogs-vs-cats-data')\n",
        "new_base_dir = pathlib.Path('dogs-vs-cats-small')\n",
        "\n",
        "# Define a function to move our images to the new directory.\n",
        "def make_subset(subset_name, start_index, end_index):\n",
        "    for category in ('cat', 'dog'):\n",
        "        dir = new_base_dir / subset_name / category\n",
        "        pathlib.Path(dir).mkdir(parents=True, exist_ok=True)\n",
        "        # images in the train set have the file name dog.5.jpg, with no leading zeros. \n",
        "        fnames = [f'{category}.{i}.jpg' for i in range(start_index, end_index)]\n",
        "        for fname in fnames:\n",
        "            # Copy from original_dir to new_base_dir\n",
        "            shutil.copyfile(src=original_dir / \"train\"/ fname, dst=dir / fname)\n",
        "\n",
        "# # Define size of each set\n",
        "# # Select size/2 of each type of image to chose for the small subset. \n",
        "# num_train_images = 2000\n",
        "# num_val_images = 1000\n",
        "# num_test_images = 2000\n",
        "\n",
        "# Use Full Dataset\n",
        "num_train_images = 10000\n",
        "num_val_images = 5000\n",
        "num_test_images = 10000\n",
        "\n",
        "# Loop over the train, validation, and test sets, making subsets for each.\n",
        "i = 0\n",
        "for dataset, num_images in {\"train\":num_train_images, \"validation\":num_val_images, \"test\":num_test_images}.items():\n",
        "    make_subset(dataset, i, int(i + num_images/2))\n",
        "    i += int(num_images / 2)"
      ],
      "execution_count": 7,
      "outputs": []
    },
    {
      "cell_type": "code",
      "metadata": {
        "colab": {
          "base_uri": "https://localhost:8080/"
        },
        "id": "Lmx1Y28-69IE",
        "outputId": "d34e17d7-f7b8-4d22-b06f-521fb5b655d4"
      },
      "source": [
        "# Create datasets from images\n",
        "from tensorflow.keras.preprocessing import image_dataset_from_directory\n",
        "\n",
        "train_dataset = image_dataset_from_directory(\n",
        "    directory=new_base_dir / 'train',\n",
        "    labels='inferred',\n",
        "    image_size=(250, 250),\n",
        "    batch_size=32)\n",
        "validation_dataset = image_dataset_from_directory(\n",
        "    directory=new_base_dir / 'validation',\n",
        "    labels='inferred',\n",
        "    image_size=(250, 250),\n",
        "    batch_size=32)\n",
        "test_dataset = image_dataset_from_directory(\n",
        "    directory=new_base_dir / 'test',\n",
        "    labels='inferred',\n",
        "    image_size=(250, 250),\n",
        "    batch_size=32)"
      ],
      "execution_count": 8,
      "outputs": [
        {
          "output_type": "stream",
          "text": [
            "Found 10000 files belonging to 2 classes.\n",
            "Found 5000 files belonging to 2 classes.\n",
            "Found 10000 files belonging to 2 classes.\n"
          ],
          "name": "stdout"
        }
      ]
    },
    {
      "cell_type": "code",
      "metadata": {
        "colab": {
          "base_uri": "https://localhost:8080/"
        },
        "id": "rnJujyq86Znn",
        "outputId": "d3b2b30d-bed0-4998-81c1-6ab19f923dfd"
      },
      "source": [
        "# Import the VGG16 Model\n",
        "conv_base = keras.applications.vgg16.VGG16(\n",
        "    weights='imagenet',\n",
        "    include_top=False,\n",
        "    input_shape=(250, 250, 3))"
      ],
      "execution_count": 9,
      "outputs": [
        {
          "output_type": "stream",
          "text": [
            "Downloading data from https://storage.googleapis.com/tensorflow/keras-applications/vgg16/vgg16_weights_tf_dim_ordering_tf_kernels_notop.h5\n",
            "58892288/58889256 [==============================] - 0s 0us/step\n"
          ],
          "name": "stdout"
        }
      ]
    },
    {
      "cell_type": "code",
      "metadata": {
        "colab": {
          "base_uri": "https://localhost:8080/"
        },
        "id": "00wKiJoh6Zno",
        "outputId": "ff11521a-2d37-4f8f-9bec-99d0bdd75803"
      },
      "source": [
        "conv_base.summary()"
      ],
      "execution_count": 10,
      "outputs": [
        {
          "output_type": "stream",
          "text": [
            "Model: \"vgg16\"\n",
            "_________________________________________________________________\n",
            "Layer (type)                 Output Shape              Param #   \n",
            "=================================================================\n",
            "input_1 (InputLayer)         [(None, 250, 250, 3)]     0         \n",
            "_________________________________________________________________\n",
            "block1_conv1 (Conv2D)        (None, 250, 250, 64)      1792      \n",
            "_________________________________________________________________\n",
            "block1_conv2 (Conv2D)        (None, 250, 250, 64)      36928     \n",
            "_________________________________________________________________\n",
            "block1_pool (MaxPooling2D)   (None, 125, 125, 64)      0         \n",
            "_________________________________________________________________\n",
            "block2_conv1 (Conv2D)        (None, 125, 125, 128)     73856     \n",
            "_________________________________________________________________\n",
            "block2_conv2 (Conv2D)        (None, 125, 125, 128)     147584    \n",
            "_________________________________________________________________\n",
            "block2_pool (MaxPooling2D)   (None, 62, 62, 128)       0         \n",
            "_________________________________________________________________\n",
            "block3_conv1 (Conv2D)        (None, 62, 62, 256)       295168    \n",
            "_________________________________________________________________\n",
            "block3_conv2 (Conv2D)        (None, 62, 62, 256)       590080    \n",
            "_________________________________________________________________\n",
            "block3_conv3 (Conv2D)        (None, 62, 62, 256)       590080    \n",
            "_________________________________________________________________\n",
            "block3_pool (MaxPooling2D)   (None, 31, 31, 256)       0         \n",
            "_________________________________________________________________\n",
            "block4_conv1 (Conv2D)        (None, 31, 31, 512)       1180160   \n",
            "_________________________________________________________________\n",
            "block4_conv2 (Conv2D)        (None, 31, 31, 512)       2359808   \n",
            "_________________________________________________________________\n",
            "block4_conv3 (Conv2D)        (None, 31, 31, 512)       2359808   \n",
            "_________________________________________________________________\n",
            "block4_pool (MaxPooling2D)   (None, 15, 15, 512)       0         \n",
            "_________________________________________________________________\n",
            "block5_conv1 (Conv2D)        (None, 15, 15, 512)       2359808   \n",
            "_________________________________________________________________\n",
            "block5_conv2 (Conv2D)        (None, 15, 15, 512)       2359808   \n",
            "_________________________________________________________________\n",
            "block5_conv3 (Conv2D)        (None, 15, 15, 512)       2359808   \n",
            "_________________________________________________________________\n",
            "block5_pool (MaxPooling2D)   (None, 7, 7, 512)         0         \n",
            "=================================================================\n",
            "Total params: 14,714,688\n",
            "Trainable params: 14,714,688\n",
            "Non-trainable params: 0\n",
            "_________________________________________________________________\n"
          ],
          "name": "stdout"
        }
      ]
    },
    {
      "cell_type": "code",
      "metadata": {
        "id": "PxOHI74d6Znp"
      },
      "source": [
        "# Freeze the VGG16 model by setting the trainable attribute to False.\n",
        "conv_base  = keras.applications.vgg16.VGG16(\n",
        "    weights='imagenet',\n",
        "    include_top=False)\n",
        "conv_base.trainable = False"
      ],
      "execution_count": 11,
      "outputs": []
    },
    {
      "cell_type": "code",
      "metadata": {
        "id": "k5Z26ibh6Znp"
      },
      "source": [
        "# Create data augmentation layers\n",
        "data_augmentation = keras.Sequential(\n",
        "    [\n",
        "        layers.experimental.preprocessing.RandomFlip(\"horizontal\"),\n",
        "        layers.experimental.preprocessing.RandomRotation(0.1),\n",
        "        layers.experimental.preprocessing.RandomZoom(0.2),\n",
        "    ]\n",
        ")"
      ],
      "execution_count": 12,
      "outputs": []
    },
    {
      "cell_type": "code",
      "metadata": {
        "id": "1fc8hyz26Znr"
      },
      "source": [
        "# Build the model\n",
        "inputs = keras.Input(shape=(250, 250, 3))\n",
        "x = data_augmentation(inputs)\n",
        "\n",
        "x = conv_base(x)\n",
        "\n",
        "x = layers.Flatten()(x)\n",
        "x = layers.Dense(256)(x)\n",
        "x = layers.Dropout(0.5)(x)\n",
        "\n",
        "outputs = layers.Dense(1, activation='sigmoid')(x)\n",
        "\n",
        "model = keras.Model(inputs, outputs)\n",
        "\n",
        "# Compile the model\n",
        "model.compile(loss='binary_crossentropy',\n",
        "              optimizer='rmsprop',\n",
        "              metrics=['accuracy'])"
      ],
      "execution_count": 13,
      "outputs": []
    },
    {
      "cell_type": "code",
      "metadata": {
        "id": "WlLWdq2s6Znr"
      },
      "source": [
        "# Define the callbacks and save the best model to a new file\n",
        "callbacks = [keras.callbacks.ModelCheckpoint(\n",
        "    filepath='models/full_model.keras',\n",
        "    save_best_only=True,\n",
        "    monitor='val_loss')]"
      ],
      "execution_count": 14,
      "outputs": []
    },
    {
      "cell_type": "code",
      "metadata": {
        "colab": {
          "base_uri": "https://localhost:8080/"
        },
        "id": "9AAb6y5Y6Zns",
        "outputId": "46a34a7a-73cb-4527-ccf2-42c6cc1bb02f"
      },
      "source": [
        "import time\n",
        "# Time the time it takes to train the model\n",
        "start_time = time.time()\n",
        "\n",
        "history = model.fit(\n",
        "  train_dataset,\n",
        "  epochs=50,\n",
        "  validation_data=validation_dataset,\n",
        "  callbacks=callbacks)\n",
        "\n",
        "print(\"--- Model trained in %s seconds ---\" % (time.time() - start_time))"
      ],
      "execution_count": 15,
      "outputs": [
        {
          "output_type": "stream",
          "text": [
            "Epoch 1/50\n",
            "313/313 [==============================] - 149s 349ms/step - loss: 30.5399 - accuracy: 0.8813 - val_loss: 5.3307 - val_accuracy: 0.9650\n",
            "Epoch 2/50\n",
            "313/313 [==============================] - 103s 329ms/step - loss: 8.2858 - accuracy: 0.9369 - val_loss: 5.4000 - val_accuracy: 0.9550\n",
            "Epoch 3/50\n",
            "313/313 [==============================] - 103s 330ms/step - loss: 3.5285 - accuracy: 0.9507 - val_loss: 1.4007 - val_accuracy: 0.9662\n",
            "Epoch 4/50\n",
            "313/313 [==============================] - 103s 330ms/step - loss: 1.4744 - accuracy: 0.9467 - val_loss: 2.9532 - val_accuracy: 0.9274\n",
            "Epoch 5/50\n",
            "313/313 [==============================] - 104s 330ms/step - loss: 1.3043 - accuracy: 0.9452 - val_loss: 1.1690 - val_accuracy: 0.9634\n",
            "Epoch 6/50\n",
            "313/313 [==============================] - 103s 330ms/step - loss: 0.9844 - accuracy: 0.9531 - val_loss: 0.7909 - val_accuracy: 0.9726\n",
            "Epoch 7/50\n",
            "313/313 [==============================] - 104s 331ms/step - loss: 1.1402 - accuracy: 0.9474 - val_loss: 1.8271 - val_accuracy: 0.9556\n",
            "Epoch 8/50\n",
            "313/313 [==============================] - 103s 329ms/step - loss: 1.1865 - accuracy: 0.9536 - val_loss: 1.0050 - val_accuracy: 0.9736\n",
            "Epoch 9/50\n",
            "313/313 [==============================] - 103s 329ms/step - loss: 1.0765 - accuracy: 0.9593 - val_loss: 1.0821 - val_accuracy: 0.9670\n",
            "Epoch 10/50\n",
            "313/313 [==============================] - 103s 330ms/step - loss: 1.1199 - accuracy: 0.9565 - val_loss: 0.9007 - val_accuracy: 0.9762\n",
            "Epoch 11/50\n",
            "313/313 [==============================] - 104s 330ms/step - loss: 1.1018 - accuracy: 0.9602 - val_loss: 1.7076 - val_accuracy: 0.9616\n",
            "Epoch 12/50\n",
            "313/313 [==============================] - 103s 329ms/step - loss: 1.1439 - accuracy: 0.9590 - val_loss: 1.1057 - val_accuracy: 0.9720\n",
            "Epoch 13/50\n",
            "313/313 [==============================] - 104s 330ms/step - loss: 1.1109 - accuracy: 0.9603 - val_loss: 1.2851 - val_accuracy: 0.9714\n",
            "Epoch 14/50\n",
            "313/313 [==============================] - 104s 330ms/step - loss: 1.2275 - accuracy: 0.9619 - val_loss: 1.3082 - val_accuracy: 0.9726\n",
            "Epoch 15/50\n",
            "313/313 [==============================] - 103s 330ms/step - loss: 1.3081 - accuracy: 0.9601 - val_loss: 1.6331 - val_accuracy: 0.9702\n",
            "Epoch 16/50\n",
            "313/313 [==============================] - 103s 330ms/step - loss: 1.2839 - accuracy: 0.9643 - val_loss: 1.4141 - val_accuracy: 0.9676\n",
            "Epoch 17/50\n",
            "313/313 [==============================] - 103s 329ms/step - loss: 1.2482 - accuracy: 0.9628 - val_loss: 1.0491 - val_accuracy: 0.9726\n",
            "Epoch 18/50\n",
            "313/313 [==============================] - 104s 331ms/step - loss: 1.2303 - accuracy: 0.9652 - val_loss: 1.4007 - val_accuracy: 0.9762\n",
            "Epoch 19/50\n",
            "313/313 [==============================] - 104s 330ms/step - loss: 1.2108 - accuracy: 0.9671 - val_loss: 1.2123 - val_accuracy: 0.9770\n",
            "Epoch 20/50\n",
            "313/313 [==============================] - 104s 330ms/step - loss: 1.1798 - accuracy: 0.9695 - val_loss: 1.5000 - val_accuracy: 0.9692\n",
            "Epoch 21/50\n",
            "313/313 [==============================] - 104s 330ms/step - loss: 1.2567 - accuracy: 0.9637 - val_loss: 1.2692 - val_accuracy: 0.9736\n",
            "Epoch 22/50\n",
            "313/313 [==============================] - 104s 331ms/step - loss: 1.1414 - accuracy: 0.9656 - val_loss: 1.3879 - val_accuracy: 0.9758\n",
            "Epoch 23/50\n",
            "313/313 [==============================] - 104s 330ms/step - loss: 1.1678 - accuracy: 0.9704 - val_loss: 1.3162 - val_accuracy: 0.9760\n",
            "Epoch 24/50\n",
            "313/313 [==============================] - 104s 331ms/step - loss: 1.3237 - accuracy: 0.9647 - val_loss: 1.9756 - val_accuracy: 0.9634\n",
            "Epoch 25/50\n",
            "313/313 [==============================] - 104s 332ms/step - loss: 1.0850 - accuracy: 0.9676 - val_loss: 1.7716 - val_accuracy: 0.9718\n",
            "Epoch 26/50\n",
            "313/313 [==============================] - 104s 331ms/step - loss: 1.3246 - accuracy: 0.9650 - val_loss: 1.6067 - val_accuracy: 0.9728\n",
            "Epoch 27/50\n",
            "313/313 [==============================] - 104s 331ms/step - loss: 1.3233 - accuracy: 0.9654 - val_loss: 1.4403 - val_accuracy: 0.9728\n",
            "Epoch 28/50\n",
            "313/313 [==============================] - 104s 331ms/step - loss: 1.3622 - accuracy: 0.9667 - val_loss: 1.8025 - val_accuracy: 0.9732\n",
            "Epoch 29/50\n",
            "313/313 [==============================] - 104s 332ms/step - loss: 1.3260 - accuracy: 0.9683 - val_loss: 1.7841 - val_accuracy: 0.9726\n",
            "Epoch 30/50\n",
            "313/313 [==============================] - 104s 330ms/step - loss: 1.4047 - accuracy: 0.9667 - val_loss: 1.6349 - val_accuracy: 0.9754\n",
            "Epoch 31/50\n",
            "313/313 [==============================] - 104s 331ms/step - loss: 1.4960 - accuracy: 0.9654 - val_loss: 2.3795 - val_accuracy: 0.9700\n",
            "Epoch 32/50\n",
            "313/313 [==============================] - 104s 330ms/step - loss: 1.2751 - accuracy: 0.9700 - val_loss: 2.0255 - val_accuracy: 0.9694\n",
            "Epoch 33/50\n",
            "313/313 [==============================] - 104s 330ms/step - loss: 1.3564 - accuracy: 0.9679 - val_loss: 2.8689 - val_accuracy: 0.9628\n",
            "Epoch 34/50\n",
            "313/313 [==============================] - 104s 330ms/step - loss: 1.2171 - accuracy: 0.9746 - val_loss: 1.8120 - val_accuracy: 0.9720\n",
            "Epoch 35/50\n",
            "313/313 [==============================] - 104s 331ms/step - loss: 1.1067 - accuracy: 0.9732 - val_loss: 1.9071 - val_accuracy: 0.9734\n",
            "Epoch 36/50\n",
            "313/313 [==============================] - 104s 331ms/step - loss: 1.0385 - accuracy: 0.9755 - val_loss: 2.5786 - val_accuracy: 0.9706\n",
            "Epoch 37/50\n",
            "313/313 [==============================] - 104s 331ms/step - loss: 1.2212 - accuracy: 0.9717 - val_loss: 3.5200 - val_accuracy: 0.9584\n",
            "Epoch 38/50\n",
            "313/313 [==============================] - 104s 331ms/step - loss: 1.4286 - accuracy: 0.9702 - val_loss: 2.1976 - val_accuracy: 0.9730\n",
            "Epoch 39/50\n",
            "313/313 [==============================] - 104s 332ms/step - loss: 1.0886 - accuracy: 0.9753 - val_loss: 2.5176 - val_accuracy: 0.9704\n",
            "Epoch 40/50\n",
            "313/313 [==============================] - 104s 331ms/step - loss: 1.4230 - accuracy: 0.9717 - val_loss: 2.4115 - val_accuracy: 0.9682\n",
            "Epoch 41/50\n",
            "313/313 [==============================] - 104s 331ms/step - loss: 1.4200 - accuracy: 0.9707 - val_loss: 3.1668 - val_accuracy: 0.9564\n",
            "Epoch 42/50\n",
            "313/313 [==============================] - 104s 332ms/step - loss: 1.4297 - accuracy: 0.9655 - val_loss: 3.9600 - val_accuracy: 0.9548\n",
            "Epoch 43/50\n",
            "313/313 [==============================] - 104s 332ms/step - loss: 1.6515 - accuracy: 0.9661 - val_loss: 1.9308 - val_accuracy: 0.9742\n",
            "Epoch 44/50\n",
            "313/313 [==============================] - 104s 332ms/step - loss: 1.3423 - accuracy: 0.9714 - val_loss: 2.3884 - val_accuracy: 0.9728\n",
            "Epoch 45/50\n",
            "313/313 [==============================] - 104s 332ms/step - loss: 1.5331 - accuracy: 0.9721 - val_loss: 2.4533 - val_accuracy: 0.9734\n",
            "Epoch 46/50\n",
            "313/313 [==============================] - 104s 332ms/step - loss: 1.4313 - accuracy: 0.9722 - val_loss: 2.0509 - val_accuracy: 0.9744\n",
            "Epoch 47/50\n",
            "313/313 [==============================] - 105s 333ms/step - loss: 1.1711 - accuracy: 0.9742 - val_loss: 2.3820 - val_accuracy: 0.9740\n",
            "Epoch 48/50\n",
            "313/313 [==============================] - 104s 332ms/step - loss: 1.3936 - accuracy: 0.9713 - val_loss: 2.5786 - val_accuracy: 0.9742\n",
            "Epoch 49/50\n",
            "313/313 [==============================] - 104s 332ms/step - loss: 1.0530 - accuracy: 0.9767 - val_loss: 2.8912 - val_accuracy: 0.9748\n",
            "Epoch 50/50\n",
            "313/313 [==============================] - 104s 332ms/step - loss: 1.2486 - accuracy: 0.9779 - val_loss: 2.5696 - val_accuracy: 0.9728\n",
            "--- Model trained in 5236.766402721405 seconds ---\n"
          ],
          "name": "stdout"
        }
      ]
    },
    {
      "cell_type": "code",
      "metadata": {
        "colab": {
          "base_uri": "https://localhost:8080/",
          "height": 545
        },
        "id": "XbWtaVZG6Zns",
        "outputId": "6ac87f23-f447-4e05-f577-dffaa36799d5"
      },
      "source": [
        "# Plot the loss and accuracy of the model over the training and validation data during training. \n",
        "accuracy = history.history['accuracy']\n",
        "val_accuracy = history.history['val_accuracy']\n",
        "loss = history.history['loss']\n",
        "val_loss = history.history['val_loss']\n",
        "epochs = range(1, len(accuracy) + 1)\n",
        "plt.plot(epochs, accuracy, 'bo', label='Training accuracy')\n",
        "plt.plot(epochs, val_accuracy, 'b', label='Validation accuracy')\n",
        "plt.title('Training and validation accuracy')\n",
        "plt.legend()\n",
        "plt.figure()\n",
        "plt.plot(epochs, loss, 'bo', label='Training loss')\n",
        "plt.plot(epochs, val_loss, 'b', label='Validation loss')\n",
        "plt.title('Training and validation loss')\n",
        "plt.legend()\n",
        "plt.show()"
      ],
      "execution_count": 16,
      "outputs": [
        {
          "output_type": "display_data",
          "data": {
            "image/png": "[encoded data removed]",
            "text/plain": [
              "<Figure size 432x288 with 1 Axes>"
            ]
          },
          "metadata": {
            "tags": [],
            "needs_background": "light"
          }
        },
        {
          "output_type": "display_data",
          "data": {
            "image/png": "[encoded data removed]",
            "text/plain": [
              "<Figure size 432x288 with 1 Axes>"
            ]
          },
          "metadata": {
            "tags": [],
            "needs_background": "light"
          }
        }
      ]
    },
    {
      "cell_type": "code",
      "metadata": {
        "colab": {
          "base_uri": "https://localhost:8080/"
        },
        "id": "ftZF8pxT6Znt",
        "outputId": "1b379c3a-276e-4df2-a89e-8b8aac7fc67f"
      },
      "source": [
        "# Display the accuracy of the model on the test dataset\n",
        "model = keras.models.load_model('models/full_model.keras')\n",
        "test_loss, test_acc = model.evaluate(test_dataset)\n",
        "print('Test accuracy: %.3f' % (test_acc,))"
      ],
      "execution_count": 17,
      "outputs": [
        {
          "output_type": "stream",
          "text": [
            "313/313 [==============================] - 69s 220ms/step - loss: 0.9658 - accuracy: 0.9728\n",
            "Test accuracy: 0.973\n"
          ],
          "name": "stdout"
        }
      ]
    },
    {
      "cell_type": "code",
      "metadata": {
        "colab": {
          "base_uri": "https://localhost:8080/",
          "height": 34
        },
        "id": "OEZpLR6iJHe6",
        "outputId": "8d520d8c-2724-48f9-8c86-d2e48a7ff1e5"
      },
      "source": [
        "# Download the model files\n",
        "files.download('models/full_model.keras') "
      ],
      "execution_count": 18,
      "outputs": [
        {
          "output_type": "display_data",
          "data": {
            "application/javascript": [
              "\n",
              "    async function download(id, filename, size) {\n",
              "      if (!google.colab.kernel.accessAllowed) {\n",
              "        return;\n",
              "      }\n",
              "      const div = document.createElement('div');\n",
              "      const label = document.createElement('label');\n",
              "      label.textContent = `Downloading \"${filename}\": `;\n",
              "      div.appendChild(label);\n",
              "      const progress = document.createElement('progress');\n",
              "      progress.max = size;\n",
              "      div.appendChild(progress);\n",
              "      document.body.appendChild(div);\n",
              "\n",
              "      const buffers = [];\n",
              "      let downloaded = 0;\n",
              "\n",
              "      const channel = await google.colab.kernel.comms.open(id);\n",
              "      // Send a message to notify the kernel that we're ready.\n",
              "      channel.send({})\n",
              "\n",
              "      for await (const message of channel.messages) {\n",
              "        // Send a message to notify the kernel that we're ready.\n",
              "        channel.send({})\n",
              "        if (message.buffers) {\n",
              "          for (const buffer of message.buffers) {\n",
              "            buffers.push(buffer);\n",
              "            downloaded += buffer.byteLength;\n",
              "            progress.value = downloaded;\n",
              "          }\n",
              "        }\n",
              "      }\n",
              "      const blob = new Blob(buffers, {type: 'application/binary'});\n",
              "      const a = document.createElement('a');\n",
              "      a.href = window.URL.createObjectURL(blob);\n",
              "      a.download = filename;\n",
              "      div.appendChild(a);\n",
              "      a.click();\n",
              "      div.remove();\n",
              "    }\n",
              "  "
            ],
            "text/plain": [
              "<IPython.core.display.Javascript object>"
            ]
          },
          "metadata": {
            "tags": []
          }
        },
        {
          "output_type": "display_data",
          "data": {
            "application/javascript": [
              "download(\"download_ef8245dd-5215-481f-8207-e94e46db5327\", \"full_model.keras\", 110314064)"
            ],
            "text/plain": [
              "<IPython.core.display.Javascript object>"
            ]
          },
          "metadata": {
            "tags": []
          }
        }
      ]
    },
    {
      "cell_type": "markdown",
      "metadata": {
        "id": "BEC4Ou9b6Znt"
      },
      "source": [
        "## Fine Tuning a Pretrained Model"
      ]
    },
    {
      "cell_type": "code",
      "metadata": {
        "id": "-TbkifPo6Znu"
      },
      "source": [
        "# Unfreeze the top four layers\n",
        "conv_base.trainable = True\n",
        "for layer in conv_base.layers[:-4]:\n",
        "  layer.trainable = False"
      ],
      "execution_count": 19,
      "outputs": []
    },
    {
      "cell_type": "code",
      "metadata": {
        "id": "m9f-zRAC6Znu"
      },
      "source": [
        "# Recompile the model (since we changed the trainable layers)\n",
        "model.compile(loss='binary_crossentropy',\n",
        "              optimizer=keras.optimizers.RMSprop(learning_rate=1e-5),\n",
        "              metrics=['accuracy'])\n"
      ],
      "execution_count": 20,
      "outputs": []
    },
    {
      "cell_type": "code",
      "metadata": {
        "id": "ntozmrDI6Znv"
      },
      "source": [
        "# Define callbacks again, with a new save file\n",
        "callbacks = [keras.callbacks.ModelCheckpoint(\n",
        "    filepath='models/full_model_with_fine_tuning.keras',\n",
        "    save_best_only=True,\n",
        "    monitor='val_loss')]\n"
      ],
      "execution_count": 21,
      "outputs": []
    },
    {
      "cell_type": "code",
      "metadata": {
        "colab": {
          "base_uri": "https://localhost:8080/"
        },
        "id": "Ki_cqhBm6Znv",
        "outputId": "520ea67f-e0af-4beb-e756-86b387af3c64"
      },
      "source": [
        "start_time = time.time()\n",
        "\n",
        "history = model.fit(\n",
        "    train_dataset,\n",
        "    epochs=50,\n",
        "    validation_data=validation_dataset,\n",
        "    callbacks=callbacks)\n",
        "\n",
        "print(\"--- Model trained in %s seconds ---\" % (time.time() - start_time))"
      ],
      "execution_count": 22,
      "outputs": [
        {
          "output_type": "stream",
          "text": [
            "Epoch 1/50\n",
            "313/313 [==============================] - 105s 332ms/step - loss: 0.8992 - accuracy: 0.9577 - val_loss: 0.6424 - val_accuracy: 0.9760\n",
            "Epoch 2/50\n",
            "313/313 [==============================] - 104s 331ms/step - loss: 0.6974 - accuracy: 0.9625 - val_loss: 0.6042 - val_accuracy: 0.9764\n",
            "Epoch 3/50\n",
            "313/313 [==============================] - 104s 331ms/step - loss: 0.6496 - accuracy: 0.9643 - val_loss: 0.5722 - val_accuracy: 0.9764\n",
            "Epoch 4/50\n",
            "313/313 [==============================] - 104s 331ms/step - loss: 0.6809 - accuracy: 0.9642 - val_loss: 0.5449 - val_accuracy: 0.9756\n",
            "Epoch 5/50\n",
            "313/313 [==============================] - 104s 332ms/step - loss: 0.6841 - accuracy: 0.9633 - val_loss: 0.5270 - val_accuracy: 0.9758\n",
            "Epoch 6/50\n",
            "313/313 [==============================] - 104s 331ms/step - loss: 0.5676 - accuracy: 0.9658 - val_loss: 0.4960 - val_accuracy: 0.9762\n",
            "Epoch 7/50\n",
            "313/313 [==============================] - 104s 332ms/step - loss: 0.5879 - accuracy: 0.9620 - val_loss: 0.4806 - val_accuracy: 0.9758\n",
            "Epoch 8/50\n",
            "313/313 [==============================] - 104s 332ms/step - loss: 0.4444 - accuracy: 0.9669 - val_loss: 0.4556 - val_accuracy: 0.9760\n",
            "Epoch 9/50\n",
            "313/313 [==============================] - 104s 332ms/step - loss: 0.5186 - accuracy: 0.9628 - val_loss: 0.4221 - val_accuracy: 0.9776\n",
            "Epoch 10/50\n",
            "313/313 [==============================] - 105s 333ms/step - loss: 0.4993 - accuracy: 0.9629 - val_loss: 0.4036 - val_accuracy: 0.9770\n",
            "Epoch 11/50\n",
            "313/313 [==============================] - 105s 334ms/step - loss: 0.4492 - accuracy: 0.9669 - val_loss: 0.3786 - val_accuracy: 0.9772\n",
            "Epoch 12/50\n",
            "313/313 [==============================] - 105s 334ms/step - loss: 0.4709 - accuracy: 0.9627 - val_loss: 0.3625 - val_accuracy: 0.9764\n",
            "Epoch 13/50\n",
            "313/313 [==============================] - 105s 334ms/step - loss: 0.3944 - accuracy: 0.9651 - val_loss: 0.3401 - val_accuracy: 0.9768\n",
            "Epoch 14/50\n",
            "313/313 [==============================] - 105s 333ms/step - loss: 0.3779 - accuracy: 0.9663 - val_loss: 0.3181 - val_accuracy: 0.9766\n",
            "Epoch 15/50\n",
            "313/313 [==============================] - 105s 334ms/step - loss: 0.3775 - accuracy: 0.9608 - val_loss: 0.3044 - val_accuracy: 0.9764\n",
            "Epoch 16/50\n",
            "313/313 [==============================] - 105s 333ms/step - loss: 0.3702 - accuracy: 0.9617 - val_loss: 0.2809 - val_accuracy: 0.9772\n",
            "Epoch 17/50\n",
            "313/313 [==============================] - 104s 333ms/step - loss: 0.2924 - accuracy: 0.9655 - val_loss: 0.2731 - val_accuracy: 0.9772\n",
            "Epoch 18/50\n",
            "313/313 [==============================] - 104s 333ms/step - loss: 0.2678 - accuracy: 0.9706 - val_loss: 0.2626 - val_accuracy: 0.9758\n",
            "Epoch 19/50\n",
            "313/313 [==============================] - 105s 333ms/step - loss: 0.2746 - accuracy: 0.9642 - val_loss: 0.2461 - val_accuracy: 0.9768\n",
            "Epoch 20/50\n",
            "313/313 [==============================] - 105s 333ms/step - loss: 0.2387 - accuracy: 0.9660 - val_loss: 0.2362 - val_accuracy: 0.9756\n",
            "Epoch 21/50\n",
            "313/313 [==============================] - 104s 333ms/step - loss: 0.2836 - accuracy: 0.9632 - val_loss: 0.2250 - val_accuracy: 0.9758\n",
            "Epoch 22/50\n",
            "313/313 [==============================] - 104s 332ms/step - loss: 0.2384 - accuracy: 0.9658 - val_loss: 0.2140 - val_accuracy: 0.9762\n",
            "Epoch 23/50\n",
            "313/313 [==============================] - 104s 332ms/step - loss: 0.2150 - accuracy: 0.9669 - val_loss: 0.1967 - val_accuracy: 0.9764\n",
            "Epoch 24/50\n",
            "313/313 [==============================] - 104s 332ms/step - loss: 0.2063 - accuracy: 0.9674 - val_loss: 0.1871 - val_accuracy: 0.9760\n",
            "Epoch 25/50\n",
            "313/313 [==============================] - 105s 333ms/step - loss: 0.1845 - accuracy: 0.9636 - val_loss: 0.1787 - val_accuracy: 0.9758\n",
            "Epoch 26/50\n",
            "313/313 [==============================] - 104s 331ms/step - loss: 0.1743 - accuracy: 0.9666 - val_loss: 0.1703 - val_accuracy: 0.9764\n",
            "Epoch 27/50\n",
            "313/313 [==============================] - 104s 331ms/step - loss: 0.1753 - accuracy: 0.9669 - val_loss: 0.1569 - val_accuracy: 0.9766\n",
            "Epoch 28/50\n",
            "313/313 [==============================] - 104s 331ms/step - loss: 0.1650 - accuracy: 0.9667 - val_loss: 0.1526 - val_accuracy: 0.9764\n",
            "Epoch 29/50\n",
            "313/313 [==============================] - 104s 332ms/step - loss: 0.1556 - accuracy: 0.9698 - val_loss: 0.1429 - val_accuracy: 0.9758\n",
            "Epoch 30/50\n",
            "313/313 [==============================] - 104s 331ms/step - loss: 0.1393 - accuracy: 0.9684 - val_loss: 0.1406 - val_accuracy: 0.9770\n",
            "Epoch 31/50\n",
            "313/313 [==============================] - 104s 331ms/step - loss: 0.1225 - accuracy: 0.9707 - val_loss: 0.1299 - val_accuracy: 0.9766\n",
            "Epoch 32/50\n",
            "313/313 [==============================] - 104s 332ms/step - loss: 0.1047 - accuracy: 0.9702 - val_loss: 0.1270 - val_accuracy: 0.9760\n",
            "Epoch 33/50\n",
            "313/313 [==============================] - 104s 332ms/step - loss: 0.1137 - accuracy: 0.9694 - val_loss: 0.1207 - val_accuracy: 0.9772\n",
            "Epoch 34/50\n",
            "313/313 [==============================] - 104s 332ms/step - loss: 0.1208 - accuracy: 0.9679 - val_loss: 0.1114 - val_accuracy: 0.9772\n",
            "Epoch 35/50\n",
            "313/313 [==============================] - 105s 333ms/step - loss: 0.1065 - accuracy: 0.9688 - val_loss: 0.1082 - val_accuracy: 0.9766\n",
            "Epoch 36/50\n",
            "313/313 [==============================] - 104s 332ms/step - loss: 0.1043 - accuracy: 0.9690 - val_loss: 0.1057 - val_accuracy: 0.9774\n",
            "Epoch 37/50\n",
            "313/313 [==============================] - 104s 332ms/step - loss: 0.0980 - accuracy: 0.9694 - val_loss: 0.1003 - val_accuracy: 0.9772\n",
            "Epoch 38/50\n",
            "313/313 [==============================] - 104s 331ms/step - loss: 0.0890 - accuracy: 0.9714 - val_loss: 0.0963 - val_accuracy: 0.9760\n",
            "Epoch 39/50\n",
            "313/313 [==============================] - 104s 331ms/step - loss: 0.1071 - accuracy: 0.9651 - val_loss: 0.0884 - val_accuracy: 0.9766\n",
            "Epoch 40/50\n",
            "313/313 [==============================] - 104s 331ms/step - loss: 0.0787 - accuracy: 0.9721 - val_loss: 0.0880 - val_accuracy: 0.9764\n",
            "Epoch 41/50\n",
            "313/313 [==============================] - 104s 331ms/step - loss: 0.0812 - accuracy: 0.9696 - val_loss: 0.0868 - val_accuracy: 0.9766\n",
            "Epoch 42/50\n",
            "313/313 [==============================] - 104s 331ms/step - loss: 0.0866 - accuracy: 0.9707 - val_loss: 0.0842 - val_accuracy: 0.9774\n",
            "Epoch 43/50\n",
            "313/313 [==============================] - 104s 331ms/step - loss: 0.0922 - accuracy: 0.9701 - val_loss: 0.0819 - val_accuracy: 0.9764\n",
            "Epoch 44/50\n",
            "313/313 [==============================] - 104s 331ms/step - loss: 0.0798 - accuracy: 0.9697 - val_loss: 0.0805 - val_accuracy: 0.9770\n",
            "Epoch 45/50\n",
            "313/313 [==============================] - 104s 332ms/step - loss: 0.0712 - accuracy: 0.9743 - val_loss: 0.0824 - val_accuracy: 0.9762\n",
            "Epoch 46/50\n",
            "313/313 [==============================] - 104s 333ms/step - loss: 0.0758 - accuracy: 0.9700 - val_loss: 0.0798 - val_accuracy: 0.9766\n",
            "Epoch 47/50\n",
            "313/313 [==============================] - 104s 332ms/step - loss: 0.0702 - accuracy: 0.9732 - val_loss: 0.0804 - val_accuracy: 0.9766\n",
            "Epoch 48/50\n",
            "313/313 [==============================] - 104s 332ms/step - loss: 0.0658 - accuracy: 0.9755 - val_loss: 0.0807 - val_accuracy: 0.9762\n",
            "Epoch 49/50\n",
            "313/313 [==============================] - 104s 333ms/step - loss: 0.0761 - accuracy: 0.9740 - val_loss: 0.0772 - val_accuracy: 0.9768\n",
            "Epoch 50/50\n",
            "313/313 [==============================] - 104s 333ms/step - loss: 0.0689 - accuracy: 0.9732 - val_loss: 0.0785 - val_accuracy: 0.9766\n",
            "--- Model trained in 5223.628618478775 seconds ---\n"
          ],
          "name": "stdout"
        }
      ]
    },
    {
      "cell_type": "code",
      "metadata": {
        "colab": {
          "base_uri": "https://localhost:8080/"
        },
        "id": "MMcS-Aw56Znw",
        "outputId": "945e303d-10fd-417e-e89a-d9d7258bf5ba"
      },
      "source": [
        "# Display the accuracy of the model on the test dataset\n",
        "model = keras.models.load_model('models/full_model_with_fine_tuning.keras')\n",
        "test_loss, test_acc = model.evaluate(test_dataset)\n",
        "print('Test accuracy: %.3f' % (test_acc,))"
      ],
      "execution_count": 23,
      "outputs": [
        {
          "output_type": "stream",
          "text": [
            "313/313 [==============================] - 73s 232ms/step - loss: 0.0922 - accuracy: 0.9752\n",
            "Test accuracy: 0.975\n"
          ],
          "name": "stdout"
        }
      ]
    },
    {
      "cell_type": "code",
      "metadata": {
        "colab": {
          "base_uri": "https://localhost:8080/",
          "height": 34
        },
        "id": "xx8UXmeRDiEJ",
        "outputId": "ae911d8d-c571-48d1-e107-83025fa362cf"
      },
      "source": [
        "# Download the model files\n",
        "files.download('models/full_model_with_fine_tuning.keras') "
      ],
      "execution_count": 24,
      "outputs": [
        {
          "output_type": "display_data",
          "data": {
            "application/javascript": [
              "\n",
              "    async function download(id, filename, size) {\n",
              "      if (!google.colab.kernel.accessAllowed) {\n",
              "        return;\n",
              "      }\n",
              "      const div = document.createElement('div');\n",
              "      const label = document.createElement('label');\n",
              "      label.textContent = `Downloading \"${filename}\": `;\n",
              "      div.appendChild(label);\n",
              "      const progress = document.createElement('progress');\n",
              "      progress.max = size;\n",
              "      div.appendChild(progress);\n",
              "      document.body.appendChild(div);\n",
              "\n",
              "      const buffers = [];\n",
              "      let downloaded = 0;\n",
              "\n",
              "      const channel = await google.colab.kernel.comms.open(id);\n",
              "      // Send a message to notify the kernel that we're ready.\n",
              "      channel.send({})\n",
              "\n",
              "      for await (const message of channel.messages) {\n",
              "        // Send a message to notify the kernel that we're ready.\n",
              "        channel.send({})\n",
              "        if (message.buffers) {\n",
              "          for (const buffer of message.buffers) {\n",
              "            buffers.push(buffer);\n",
              "            downloaded += buffer.byteLength;\n",
              "            progress.value = downloaded;\n",
              "          }\n",
              "        }\n",
              "      }\n",
              "      const blob = new Blob(buffers, {type: 'application/binary'});\n",
              "      const a = document.createElement('a');\n",
              "      a.href = window.URL.createObjectURL(blob);\n",
              "      a.download = filename;\n",
              "      div.appendChild(a);\n",
              "      a.click();\n",
              "      div.remove();\n",
              "    }\n",
              "  "
            ],
            "text/plain": [
              "<IPython.core.display.Javascript object>"
            ]
          },
          "metadata": {
            "tags": []
          }
        },
        {
          "output_type": "display_data",
          "data": {
            "application/javascript": [
              "download(\"download_bfe04164-7ca6-4b3a-891d-7607ae43aa91\", \"full_model_with_fine_tuning.keras\", 110314064)"
            ],
            "text/plain": [
              "<IPython.core.display.Javascript object>"
            ]
          },
          "metadata": {
            "tags": []
          }
        }
      ]
    }
  ]
}